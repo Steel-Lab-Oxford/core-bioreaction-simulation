{
 "cells": [
  {
   "cell_type": "code",
   "execution_count": 7,
   "metadata": {},
   "outputs": [
    {
     "name": "stdout",
     "output_type": "stream",
     "text": [
      "The autoreload extension is already loaded. To reload it, use:\n",
      "  %reload_ext autoreload\n"
     ]
    }
   ],
   "source": [
    "%load_ext autoreload\n",
    "%autoreload 2"
   ]
  },
  {
   "cell_type": "code",
   "execution_count": 34,
   "metadata": {},
   "outputs": [],
   "source": [
    "import bioreaction\n",
    "import chex"
   ]
  },
  {
   "cell_type": "code",
   "execution_count": 20,
   "metadata": {},
   "outputs": [],
   "source": [
    "s_RNA = bioreaction.data_containers.Species(\"rna\")\n",
    "s_GFP = bioreaction.data_containers.Species(\"gfp\")\n",
    "\n",
    "rna_creation = bioreaction.data_containers.Reaction([], [s_RNA], 4.0, 1.0)\n",
    "gfp_creation = bioreaction.data_containers.Reaction([s_RNA], [s_RNA, s_GFP], 10.0, 0.0)\n",
    "gfp_decay = bioreaction.data_containers.Reaction([s_GFP], [], 1.0, 0.0)\n",
    "\n",
    "model = bioreaction.data_containers.BasicModel([s_GFP,s_RNA], [rna_creation,gfp_creation, gfp_decay])"
   ]
  },
  {
   "cell_type": "code",
   "execution_count": 22,
   "metadata": {},
   "outputs": [],
   "source": [
    "q_react =  bioreaction.data_containers.QuantifiedReactions()\n",
    "\n",
    "\n"
   ]
  },
  {
   "cell_type": "code",
   "execution_count": 29,
   "metadata": {},
   "outputs": [],
   "source": [
    "d = dict(zip([1,2,3], [3,4,5]) )"
   ]
  },
  {
   "cell_type": "code",
   "execution_count": 35,
   "metadata": {},
   "outputs": [],
   "source": [
    "\n",
    "@chex.dataclass\n",
    "class Reactions:\n",
    "    # n-hot inputs and outputs (again row: reaction, column: species)\n",
    "    inputs: chex.ArrayDevice\n",
    "    outputs: chex.ArrayDevice\n",
    "    # inputs_onehot: chex.ArrayDevice\n",
    "    # outputs_onehot: chex.ArrayDevice\n",
    "    # Forward and reverse rates for each reaction\n",
    "    forward_rates: chex.ArrayDevice\n",
    "    reverse_rates: chex.ArrayDevice\n"
   ]
  },
  {
   "cell_type": "code",
   "execution_count": 36,
   "metadata": {},
   "outputs": [
    {
     "ename": "ValueError",
     "evalue": "Mappable dataclass constructor doesn't support positional args.(it has the same constructor as python dict)",
     "output_type": "error",
     "traceback": [
      "\u001b[0;31m---------------------------------------------------------------------------\u001b[0m",
      "\u001b[0;31mValueError\u001b[0m                                Traceback (most recent call last)",
      "\u001b[1;32m/home/seb/Code/core-bioreaction-simulation/notebooks/testing.ipynb Cell 7\u001b[0m in \u001b[0;36m<cell line: 1>\u001b[0;34m()\u001b[0m\n\u001b[0;32m----> <a href='vscode-notebook-cell://wsl%2Bubuntu/home/seb/Code/core-bioreaction-simulation/notebooks/testing.ipynb#W6sdnNjb2RlLXJlbW90ZQ%3D%3D?line=0'>1</a>\u001b[0m Reactions(\u001b[39m1\u001b[39;49m,\u001b[39m1\u001b[39;49m,\u001b[39m1\u001b[39;49m,\u001b[39m1\u001b[39;49m)\n",
      "File \u001b[0;32m~/anaconda3/envs/jax/lib/python3.10/site-packages/chex/_src/dataclass.py:217\u001b[0m, in \u001b[0;36m_Dataclass.__call__.<locals>._init\u001b[0;34m(self, *args, **kwargs)\u001b[0m\n\u001b[1;32m    215\u001b[0m   register_dataclass_type_with_jax_tree_util(dcls)\n\u001b[1;32m    216\u001b[0m   class_self\u001b[39m.\u001b[39mregistered \u001b[39m=\u001b[39m \u001b[39mTrue\u001b[39;00m\n\u001b[0;32m--> 217\u001b[0m \u001b[39mreturn\u001b[39;00m orig_init(\u001b[39mself\u001b[39;49m, \u001b[39m*\u001b[39;49margs, \u001b[39m*\u001b[39;49m\u001b[39m*\u001b[39;49mkwargs)\n",
      "File \u001b[0;32m~/anaconda3/envs/jax/lib/python3.10/site-packages/chex/_src/dataclass.py:59\u001b[0m, in \u001b[0;36mmappable_dataclass.<locals>.new_init\u001b[0;34m(self, *orig_args, **orig_kwargs)\u001b[0m\n\u001b[1;32m     56\u001b[0m \u001b[39m@functools\u001b[39m\u001b[39m.\u001b[39mwraps(orig_init)\n\u001b[1;32m     57\u001b[0m \u001b[39mdef\u001b[39;00m \u001b[39mnew_init\u001b[39m(\u001b[39mself\u001b[39m, \u001b[39m*\u001b[39morig_args, \u001b[39m*\u001b[39m\u001b[39m*\u001b[39morig_kwargs):\n\u001b[1;32m     58\u001b[0m   \u001b[39mif\u001b[39;00m (orig_args \u001b[39mand\u001b[39;00m orig_kwargs) \u001b[39mor\u001b[39;00m \u001b[39mlen\u001b[39m(orig_args) \u001b[39m>\u001b[39m \u001b[39m1\u001b[39m:\n\u001b[0;32m---> 59\u001b[0m     \u001b[39mraise\u001b[39;00m \u001b[39mValueError\u001b[39;00m(\n\u001b[1;32m     60\u001b[0m         \u001b[39m\"\u001b[39m\u001b[39mMappable dataclass constructor doesn\u001b[39m\u001b[39m'\u001b[39m\u001b[39mt support positional args.\u001b[39m\u001b[39m\"\u001b[39m\n\u001b[1;32m     61\u001b[0m         \u001b[39m\"\u001b[39m\u001b[39m(it has the same constructor as python dict)\u001b[39m\u001b[39m\"\u001b[39m)\n\u001b[1;32m     62\u001b[0m   all_kwargs \u001b[39m=\u001b[39m \u001b[39mdict\u001b[39m(\u001b[39m*\u001b[39morig_args, \u001b[39m*\u001b[39m\u001b[39m*\u001b[39morig_kwargs)\n\u001b[1;32m     63\u001b[0m   unknown_kwargs \u001b[39m=\u001b[39m \u001b[39mset\u001b[39m(all_kwargs\u001b[39m.\u001b[39mkeys()) \u001b[39m-\u001b[39m all_fields\n",
      "\u001b[0;31mValueError\u001b[0m: Mappable dataclass constructor doesn't support positional args.(it has the same constructor as python dict)"
     ]
    }
   ],
   "source": [
    "Reactions(1,1,1,1)"
   ]
  }
 ],
 "metadata": {
  "kernelspec": {
   "display_name": "Python 3.10.4 ('jax')",
   "language": "python",
   "name": "python3"
  },
  "language_info": {
   "codemirror_mode": {
    "name": "ipython",
    "version": 3
   },
   "file_extension": ".py",
   "mimetype": "text/x-python",
   "name": "python",
   "nbconvert_exporter": "python",
   "pygments_lexer": "ipython3",
   "version": "3.10.4"
  },
  "orig_nbformat": 4,
  "vscode": {
   "interpreter": {
    "hash": "215d23313455f067ae09e07e529328e8ad44a9d5ade9d3c001e5a6cb9614e77a"
   }
  }
 },
 "nbformat": 4,
 "nbformat_minor": 2
}
