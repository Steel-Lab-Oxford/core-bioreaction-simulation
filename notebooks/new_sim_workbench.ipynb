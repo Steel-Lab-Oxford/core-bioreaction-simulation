{
 "cells": [
  {
   "cell_type": "code",
   "execution_count": 2,
   "metadata": {},
   "outputs": [
    {
     "name": "stdout",
     "output_type": "stream",
     "text": [
      "The autoreload extension is already loaded. To reload it, use:\n",
      "  %reload_ext autoreload\n"
     ]
    }
   ],
   "source": [
    "%load_ext autoreload\n",
    "%autoreload 2"
   ]
  },
  {
   "cell_type": "code",
   "execution_count": 24,
   "metadata": {},
   "outputs": [],
   "source": [
    "\n",
    "import diffrax as dfx\n",
    "import equinox as eqx\n",
    "import jax.numpy as jnp\n",
    "import jax.random as jr\n",
    "import jax.tree_util as jtu\n",
    "from jaxtyping import Array, PyTree\n",
    "from typing import Callable\n",
    "import matplotlib.pyplot as plt\n",
    "import jax\n",
    "import chex\n",
    "\n",
    "import bioreaction\n",
    "import bioreaction.simulation.med_sim as med_s"
   ]
  },
  {
   "cell_type": "code",
   "execution_count": 21,
   "metadata": {},
   "outputs": [],
   "source": [
    "med_model = bioreaction.templates.GeneralMedSim()"
   ]
  },
  {
   "cell_type": "code",
   "execution_count": 22,
   "metadata": {},
   "outputs": [
    {
     "data": {
      "text/plain": [
       "MedModel(species=[Species: Protein 0, Species: Protein 1, Species: Protein 2, Species: RNA 0, Species: RNA 1, Species: RNA 2], reactions=[Reaction(input=[], output=[Species: RNA 0], forward_rate=2, reverse_rate=0.5), Reaction(input=[], output=[Species: RNA 1], forward_rate=5, reverse_rate=3), Reaction(input=[], output=[Species: RNA 2], forward_rate=0.5, reverse_rate=0.1), Reaction(input=[Species: RNA 0], output=[Species: RNA 0, Species: Protein 0], forward_rate=10, reverse_rate=0.0), Reaction(input=[Species: Protein 0], output=[], forward_rate=0.5, reverse_rate=0.0), Reaction(input=[Species: RNA 1], output=[Species: RNA 1, Species: Protein 1], forward_rate=4, reverse_rate=0.0), Reaction(input=[Species: Protein 1], output=[], forward_rate=0.1, reverse_rate=0.0), Reaction(input=[Species: RNA 2], output=[Species: RNA 2, Species: Protein 2], forward_rate=1, reverse_rate=0.0), Reaction(input=[Species: Protein 2], output=[], forward_rate=0.1, reverse_rate=0.0)], other_factors=[OtherFactor(name='Transcription Factor'), OtherFactor(name='Translation Factor'), OtherFactor(name='RNA Decay Factor')], reaction_extrinsics=[ExtraReactionEffect(factor=OtherFactor(name='Transcription Factor'), target_reaction=Reaction(input=[], output=[Species: RNA 0], forward_rate=2, reverse_rate=0.5), forward_strength=1.0, backward_stength=0.0), ExtraReactionEffect(factor=OtherFactor(name='Transcription Factor'), target_reaction=Reaction(input=[], output=[Species: RNA 1], forward_rate=5, reverse_rate=3), forward_strength=1.4, backward_stength=0.0), ExtraReactionEffect(factor=OtherFactor(name='Transcription Factor'), target_reaction=Reaction(input=[], output=[Species: RNA 2], forward_rate=0.5, reverse_rate=0.1), forward_strength=0.7, backward_stength=0.0), ExtraReactionEffect(factor=OtherFactor(name='Translation Factor'), target_reaction=Reaction(input=[Species: RNA 0], output=[Species: RNA 0, Species: Protein 0], forward_rate=10, reverse_rate=0.0), forward_strength=1.2, backward_stength=0.0), ExtraReactionEffect(factor=OtherFactor(name='Translation Factor'), target_reaction=Reaction(input=[Species: RNA 1], output=[Species: RNA 1, Species: Protein 1], forward_rate=4, reverse_rate=0.0), forward_strength=1.4, backward_stength=0.0), ExtraReactionEffect(factor=OtherFactor(name='Translation Factor'), target_reaction=Reaction(input=[Species: RNA 2], output=[Species: RNA 2, Species: Protein 2], forward_rate=1, reverse_rate=0.0), forward_strength=0.5, backward_stength=0.0), ExtraReactionEffect(factor=OtherFactor(name='RNA Decay Factor'), target_reaction=Reaction(input=[], output=[Species: RNA 0], forward_rate=2, reverse_rate=0.5), forward_strength=0.0, backward_stength=1.0), ExtraReactionEffect(factor=OtherFactor(name='RNA Decay Factor'), target_reaction=Reaction(input=[], output=[Species: RNA 1], forward_rate=5, reverse_rate=3), forward_strength=0.0, backward_stength=0.5), ExtraReactionEffect(factor=OtherFactor(name='RNA Decay Factor'), target_reaction=Reaction(input=[], output=[Species: RNA 2], forward_rate=0.5, reverse_rate=0.1), forward_strength=0.0, backward_stength=1.2)], ou_effects=[OUProcess(target=OtherFactor(name='Transcription Factor'), restoring_rate=0.5, noise_scale=0.15), OUProcess(target=OtherFactor(name='Translation Factor'), restoring_rate=2.0, noise_scale=0.4), OUProcess(target=OtherFactor(name='RNA Decay Factor'), restoring_rate=0.6666666666666666, noise_scale=0.11547005383792515)], impuluses=[Impulse(target=Species: RNA 0, delta_target=5.0, time=2.4, impulse_width=0.0), Impulse(target=Species: Protein 1, delta_target=65, time=1.0, impulse_width=0.2)], controllers=[])"
      ]
     },
     "execution_count": 22,
     "metadata": {},
     "output_type": "execute_result"
    }
   ],
   "source": [
    "med_model"
   ]
  },
  {
   "cell_type": "code",
   "execution_count": 20,
   "metadata": {},
   "outputs": [],
   "source": []
  },
  {
   "cell_type": "code",
   "execution_count": 23,
   "metadata": {},
   "outputs": [
    {
     "data": {
      "text/plain": [
       "Reactions(inputs=DeviceArray([[0., 0., 0., 0., 0., 0.],\n",
       "             [0., 0., 0., 0., 0., 0.],\n",
       "             [0., 0., 0., 0., 0., 0.],\n",
       "             [0., 0., 0., 1., 0., 0.],\n",
       "             [1., 0., 0., 0., 0., 0.],\n",
       "             [0., 0., 0., 0., 1., 0.],\n",
       "             [0., 1., 0., 0., 0., 0.],\n",
       "             [0., 0., 0., 0., 0., 1.],\n",
       "             [0., 0., 1., 0., 0., 0.]], dtype=float32), outputs=DeviceArray([[0., 0., 0., 1., 0., 0.],\n",
       "             [0., 0., 0., 0., 1., 0.],\n",
       "             [0., 0., 0., 0., 0., 1.],\n",
       "             [1., 0., 0., 1., 0., 0.],\n",
       "             [0., 0., 0., 0., 0., 0.],\n",
       "             [0., 1., 0., 0., 1., 0.],\n",
       "             [0., 0., 0., 0., 0., 0.],\n",
       "             [0., 0., 1., 0., 0., 1.],\n",
       "             [0., 0., 0., 0., 0., 0.]], dtype=float32), forward_rates=DeviceArray([ 2. ,  5. ,  0.5, 10. ,  0.5,  4. ,  0.1,  1. ,  0.1], dtype=float32), reverse_rates=DeviceArray([0.5, 3. , 0.1, 0. , 0. , 0. , 0. , 0. , 0. ], dtype=float32))"
      ]
     },
     "execution_count": 23,
     "metadata": {},
     "output_type": "execute_result"
    }
   ],
   "source": [
    "med_s.get_reactions(med_model)"
   ]
  }
 ],
 "metadata": {
  "kernelspec": {
   "display_name": "Python 3.10.4 ('jax')",
   "language": "python",
   "name": "python3"
  },
  "language_info": {
   "codemirror_mode": {
    "name": "ipython",
    "version": 3
   },
   "file_extension": ".py",
   "mimetype": "text/x-python",
   "name": "python",
   "nbconvert_exporter": "python",
   "pygments_lexer": "ipython3",
   "version": "3.10.4"
  },
  "orig_nbformat": 4,
  "vscode": {
   "interpreter": {
    "hash": "215d23313455f067ae09e07e529328e8ad44a9d5ade9d3c001e5a6cb9614e77a"
   }
  }
 },
 "nbformat": 4,
 "nbformat_minor": 2
}
