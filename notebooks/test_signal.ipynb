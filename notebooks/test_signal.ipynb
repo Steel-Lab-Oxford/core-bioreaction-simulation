{
 "cells": [
  {
   "cell_type": "markdown",
   "metadata": {},
   "source": [
    "# Simulate reaction with signal"
   ]
  },
  {
   "cell_type": "markdown",
   "metadata": {},
   "source": [
    "### Imports"
   ]
  },
  {
   "cell_type": "code",
   "execution_count": 114,
   "metadata": {},
   "outputs": [],
   "source": [
    "\n",
    "import matplotlib.pyplot as plt\n",
    "import seaborn as sns\n",
    "import pandas as pd\n",
    "import jax.numpy as jnp\n",
    "import numpy as np\n",
    "from functools import partial\n",
    "import diffrax as dfx\n",
    "\n",
    "from bioreaction.model.data_tools import construct_model\n",
    "from bioreaction.model.data_containers import QuantifiedReactions\n",
    "from bioreaction.misc.misc import load_json_as_dict"
   ]
  },
  {
   "cell_type": "markdown",
   "metadata": {},
   "source": [
    "## Test with single species"
   ]
  },
  {
   "cell_type": "code",
   "execution_count": 115,
   "metadata": {},
   "outputs": [
    {
     "name": "stderr",
     "output_type": "stream",
     "text": [
      "/home/wadh6511/Kode/env_bioreaction/lib/python3.10/site-packages/diffrax/integrate.py:83: FutureWarning: jax.tree_leaves is deprecated, and will be removed in a future release. Use jax.tree_util.tree_leaves instead.\n",
      "  [ts, save_index] + jax.tree_leaves(ys),\n",
      "/home/wadh6511/Kode/env_bioreaction/lib/python3.10/site-packages/diffrax/integrate.py:81: FutureWarning: jax.tree_leaves is deprecated, and will be removed in a future release. Use jax.tree_util.tree_leaves instead.\n",
      "  lambda s: [s.ts, s.save_index] + jax.tree_leaves(s.ys),\n"
     ]
    }
   ],
   "source": [
    "\n",
    "def x(t, total_time, dt, step_signal):  # control signal\n",
    "    return step_signal * t / (total_time / dt)\n",
    "\n",
    "def step_function(t, total_time, num_steps):\n",
    "    return jnp.floor_divide(t, total_time / num_steps)\n",
    "\n",
    "# exponential decay subject to affine control\n",
    "def fbioreaction(t, y, args, x=None):\n",
    "    return -y + x(t)\n",
    "\n",
    "t0, t1, dt0 = 0, 60, 0.1\n",
    "# signal = partial(x, total_time=t1, dt=dt0, step_signal=4)\n",
    "signal = partial(step_function, total_time=t1, num_steps=3)\n",
    "\n",
    "term = dfx.ODETerm(partial(fbioreaction, x=signal))\n",
    "solver = dfx.Tsit5()\n",
    "saveat = dfx.SaveAt(t0=True, t1=True, steps=True)\n",
    "sim_result = dfx.diffeqsolve(term, solver, t0=t0, t1=t1, dt0=dt0, y0=1, saveat=saveat)\n"
   ]
  },
  {
   "cell_type": "code",
   "execution_count": 118,
   "metadata": {},
   "outputs": [
    {
     "data": {
      "image/png": "[encoded data removed]",
      "text/plain": [
       "<Figure size 640x480 with 1 Axes>"
      ]
     },
     "metadata": {},
     "output_type": "display_data"
    }
   ],
   "source": [
    "# plt.plot(sim_result.ts, sim_result.ys)\n",
    "# plt.plot(sim_result.ts, [signal(t) for t in sim_result.ts])\n",
    "# plt.show()\n",
    "\n",
    "data = pd.DataFrame()\n",
    "data['time'] = sim_result.ts\n",
    "data['ys'] = sim_result.ys\n",
    "data['signal'] = np.array([signal(t) for t in sim_result.ts])\n",
    "\n",
    "dfm = data.melt('time', var_name='results', value_name='amount')\n",
    "sns.lineplot(x='time', y='amount', hue='results', data=dfm)  # , kind='point')\n",
    "plt.savefig('signals.png')"
   ]
  },
  {
   "cell_type": "markdown",
   "metadata": {},
   "source": [
    "## Test with multiple species"
   ]
  },
  {
   "cell_type": "code",
   "execution_count": null,
   "metadata": {},
   "outputs": [],
   "source": [
    "\n",
    "config = load_json_as_dict('../scripts/playground_signals/simple_config.json')\n",
    "model = construct_model(config)\n",
    "\n",
    "qreactions = QuantifiedReactions()\n",
    "qreactions.init_properties(model, config)\n",
    "\n",
    "\n",
    "def x(t, total_time, dt, step_signal):  # control signal\n",
    "    return step_signal * t / (total_time / dt)\n",
    "\n",
    "def step_function(t, total_time, num_steps):\n",
    "    return jnp.floor_divide(t, total_time / num_steps)\n",
    "\n",
    "# exponential decay subject to affine control\n",
    "def fbioreaction(t, y, args, x=None):\n",
    "    return -y + x(t)\n",
    "\n",
    "t0, t1, dt0 = 0, 60, 0.1\n",
    "# signal = partial(x, total_time=t1, dt=dt0, step_signal=4)\n",
    "signal = partial(step_function, total_time=t1, num_steps=2)\n",
    "\n",
    "term = dfx.ODETerm(partial(fbioreaction, x=signal))\n",
    "solver = dfx.Tsit5()\n",
    "saveat = dfx.SaveAt(t0=True, t1=True, steps=True)\n",
    "sim_result = dfx.diffeqsolve(term, solver, t0=t0, t1=t1, dt0=dt0, y0=1, saveat=saveat)\n"
   ]
  }
 ],
 "metadata": {
  "kernelspec": {
   "display_name": "Python 3.8.1 ('env_bioreactions')",
   "language": "python",
   "name": "python3"
  },
  "language_info": {
   "codemirror_mode": {
    "name": "ipython",
    "version": 3
   },
   "file_extension": ".py",
   "mimetype": "text/x-python",
   "name": "python",
   "nbconvert_exporter": "python",
   "pygments_lexer": "ipython3",
   "version": "3.8.1"
  },
  "orig_nbformat": 4,
  "vscode": {
   "interpreter": {
    "hash": "56b81efed3eb15745f0b25d72c1a0414948682b4ed3dccddd011e882b657ba71"
   }
  }
 },
 "nbformat": 4,
 "nbformat_minor": 2
}
