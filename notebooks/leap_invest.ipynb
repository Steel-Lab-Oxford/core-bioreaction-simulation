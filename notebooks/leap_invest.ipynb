{
 "cells": [
  {
   "cell_type": "code",
   "execution_count": 10,
   "metadata": {},
   "outputs": [
    {
     "name": "stdout",
     "output_type": "stream",
     "text": [
      "The autoreload extension is already loaded. To reload it, use:\n",
      "  %reload_ext autoreload\n"
     ]
    }
   ],
   "source": [
    "%load_ext autoreload\n",
    "%autoreload 2"
   ]
  },
  {
   "cell_type": "code",
   "execution_count": 11,
   "metadata": {},
   "outputs": [],
   "source": [
    "import diffrax as dfx\n",
    "import equinox as eqx\n",
    "import jax.numpy as jnp\n",
    "import jax.random as jr\n",
    "import jax.tree_util as jtu\n",
    "from jaxtyping import Array, PyTree\n",
    "from typing import Callable\n",
    "import matplotlib.pyplot as plt\n",
    "import jax\n",
    "import chex\n"
   ]
  },
  {
   "cell_type": "code",
   "execution_count": 40,
   "metadata": {},
   "outputs": [],
   "source": [
    "#\n",
    "# Define the new stateful operations.\n",
    "#\n",
    "\n",
    "_sentinel = object()\n",
    "\n",
    "# Wraps another control to provide it with an additional argument `y`, which\n",
    "# is a function `t -> y(t)` for the solution of the differential equation.\n",
    "class SolutionDependentControl(dfx.AbstractPath):\n",
    "    control: dfx.AbstractPath\n",
    "    y: Callable[[float], PyTree[Array]] = _sentinel\n",
    "\n",
    "    @property\n",
    "    def t0(self):\n",
    "        return self.control.t0\n",
    "\n",
    "    @property\n",
    "    def t1(self):\n",
    "        return self.contr0l.t1\n",
    "\n",
    "    def evaluate(self, t0, t1=None, left=True):\n",
    "        return self.control.evaluate(t0, t1, left, y=self.y)\n",
    "\n",
    "# Wraps another solver to provide for state-dependent tau-leaping.\n",
    "#\n",
    "# That is, this solver is doing two distinct things:\n",
    "# 1. It is provide an estimate of the solution to a `StateDependentControl`.\n",
    "# 2. That estimate of the solution is a constant function, whose value is the\n",
    "#    current state.\n",
    "#\n",
    "# Point 1 is just about wiring up the arguments.\n",
    "# Point 2 is a particular choice of numerics.\n",
    "class TauLeapingSolutionDependentSolver(dfx.AbstractSolver):\n",
    "    solver: dfx.AbstractSolver\n",
    "\n",
    "    @property\n",
    "    def term_structure(self):\n",
    "        return self.solver.term_structure\n",
    "\n",
    "    @property\n",
    "    def interpolation_cls(self):\n",
    "        return self.solver.interpolation_cls\n",
    "\n",
    "    def order(self, terms):\n",
    "        return self.solver.order(terms)\n",
    "\n",
    "    def strong_order(self, terms):\n",
    "        return self.solver.strong_order(terms)\n",
    "\n",
    "    def error_order(self, terms):\n",
    "        return self.solver.error_order(terms)\n",
    "\n",
    "    def init(self, terms, t0, t1, y0, args):\n",
    "        return self.solver.init(terms, t0, t1, y0, args)\n",
    "\n",
    "    def step(self, terms, t0, t1, y0, args, solver_state, made_jump):\n",
    "        is_control = lambda x: isinstance(x, SolutionDependentControl)\n",
    "        \n",
    "        def _bind_state(x):\n",
    "            if is_control(x):\n",
    "                assert x.y is _sentinel\n",
    "                sol_estimate = lambda _ : y0  # tau-leaping approximation\n",
    "                return eqx.tree_at(lambda control: control.y, x, sol_estimate)\n",
    "            else:\n",
    "                return x\n",
    "\n",
    "        terms = jtu.tree_map(_bind_state, terms, is_leaf=is_control)\n",
    "        return self.solver.step(terms, t0, t1, y0, args, solver_state, made_jump)\n",
    "\n",
    "    def func(self, terms, t0, y0, args):\n",
    "        return self.solver.func(terms, t0, y0, args)\n",
    "\n",
    "#\n",
    "# Poisson process example in particular\n",
    "#\n",
    "\n",
    "class Poisson(dfx.AbstractPath):\n",
    "    key: jr.PRNGKey\n",
    "\n",
    "    @property\n",
    "    def t0(self):\n",
    "        return 0\n",
    "\n",
    "    @property\n",
    "    def t1(self):\n",
    "        return 1\n",
    "\n",
    "    def evaluate(self, t0, t1=None, left=True, *, y):\n",
    "        \"\"\"\n",
    "        # Now simulate your process however you see fit.\n",
    "        # Things to consider:\n",
    "        #\n",
    "        # #### 1. Consistency ####\n",
    "        #\n",
    "        # Note that ideally the process should be \"consistent\", i.e. that\n",
    "        # `self.evaluate(ta, tb) + self.evaluate(tb, tc) == self.evaluate(ta, tc)`\n",
    "        # i.e. you can't just generate an independent Poisson random variable on each\n",
    "        # evaluation.\n",
    "        #\n",
    "        # This is needed when using a numerical method that may e.g. evaluate over\n",
    "        # [ta, tc], then decide to reject step and try again over the smaller interval\n",
    "        # [ta, tb].\n",
    "        #\n",
    "        # In practice for a simple tau-leaping solver this shouldn't matter, as the\n",
    "        # simulation only goes forward in time. But you are playing with fire if you\n",
    "        # break this invariant that's expected by Diffrax. :)\n",
    "        #\n",
    "        # It is known how to perform a \"consistent\" simulation for Brownian motion.\n",
    "        # (Diffrax implements a \"virtual brownian tree\" but there are other techniques\n",
    "        # as well.) But off the top of my head I don't know how to perform this simulation\n",
    "        # for a Poisson process. (Open research question perhaps? Most of the stochastic\n",
    "        # numeric literature has usually brushed this detail under the rug by using\n",
    "        # fixed-step solvers.)\n",
    "        #\n",
    "        # #### 2. Left vs right continuity ####\n",
    "        #\n",
    "        # `left=True/False` indicates whether it is the left- or right-limit that\n",
    "        # should be returned at both of `t0` and `t1`.\n",
    "        #\n",
    "        # That is, `evaluate(t0, t1, left=True)` should return\n",
    "        # lim_{t->t1 from the left} x(t) - lim_{t->t0 from the left} x(t)\n",
    "        # and `evaluate(t0, t1, left=False)` should return\n",
    "        # lim_{t->t1 from the right} x(t) - lim_{t->t0 from the right} x(t)\n",
    "        #\n",
    "        # This distinction matters for a jump process.\n",
    "        #\n",
    "        # --------------------------\n",
    "        #\n",
    "        # In practice, since point 1 is possibly an open research question and I don't\n",
    "        # have that much time, I've hardcoded a particular sample path here. Filling\n",
    "        # out the actual mathematics is an exercise for the reader! :)\n",
    "        \"\"\"\n",
    "\n",
    "        if t1 is None:\n",
    "            t1 = t0\n",
    "            t0 = self.t0\n",
    "        jump_points = jr.uniform(self.key, shape=(6,), minval=self.t0, maxval=self.t1)\n",
    "        if left:\n",
    "            x_t0 = jnp.sum(t0 > jump_points)\n",
    "            x_t1 = jnp.sum(t1 > jump_points)\n",
    "        else:\n",
    "            x_t0 = jnp.sum(t0 >= jump_points)\n",
    "            x_t1 = jnp.sum(t1 >= jump_points)\n",
    "        return x_t1 - x_t0\n",
    "\n",
    "\n",
    "class BasicPoisson(dfx.AbstractPath):\n",
    "    \"\"\"\n",
    "    Just getting something to work lol\n",
    "    \"\"\"\n",
    "    key: \"jr.PRNGKey\"\n",
    "    transf_func: Callable[[PyTree[Array]], Array] = lambda x : x\n",
    "\n",
    "    @property\n",
    "    def t0(self):\n",
    "        return None\n",
    "\n",
    "    @property\n",
    "    def t1(self):\n",
    "        return None\n",
    "\n",
    "    def evaluate(self, t0, t1=None, left=True, *, y):\n",
    "        t0_ = dfx.misc.force_bitcast_convert_type(t0, jnp.int32)\n",
    "        t1_ = dfx.misc.force_bitcast_convert_type(t1, jnp.int32)\n",
    "        new_key = jr.fold_in(self.key, t0_)\n",
    "        new_key = jr.fold_in(new_key, t1_)\n",
    "        return jr.poisson(new_key, self.transf_func(y(t0))*(t1-t0)   )\n",
    "\n",
    "\n"
   ]
  },
  {
   "cell_type": "code",
   "execution_count": 26,
   "metadata": {},
   "outputs": [
    {
     "data": {
      "text/plain": [
       "[<matplotlib.lines.Line2D at 0x7f5cd8427160>,\n",
       " <matplotlib.lines.Line2D at 0x7f5cd8426860>]"
      ]
     },
     "execution_count": 26,
     "metadata": {},
     "output_type": "execute_result"
    },
    {
     "data": {
      "image/png": "[encoded data removed]",
      "text/plain": [
       "<Figure size 432x288 with 1 Axes>"
      ]
     },
     "metadata": {
      "needs_background": "dark"
     },
     "output_type": "display_data"
    }
   ],
   "source": [
    "f = lambda t, y, args: jnp.array([[-1.0,0],[0,-1.0]])\n",
    "key = jr.PRNGKey(2)\n",
    "\n",
    "# term = dfx.ControlTerm(f, SolutionDependentControl(Poisson(key)))\n",
    "tf_func = lambda y : jnp.array([y[0],0.1*y[0]*y[1]])\n",
    "\n",
    "term = dfx.ControlTerm(f, SolutionDependentControl(BasicPoisson(key, tf_func)))\n",
    "solver = TauLeapingSolutionDependentSolver(dfx.Euler())\n",
    "saveat = dfx.SaveAt(ts = jnp.linspace(0,1,100))\n",
    "sol = dfx.diffeqsolve(term, solver, t0=0, t1=1, dt0=0.01, y0=jnp.array([10.0,10.0]), saveat=saveat)\n",
    "plt.plot(sol.ys)"
   ]
  },
  {
   "cell_type": "code",
   "execution_count": 27,
   "metadata": {},
   "outputs": [
    {
     "data": {
      "text/plain": [
       "[<matplotlib.lines.Line2D at 0x7f5ce42b5d20>]"
      ]
     },
     "execution_count": 27,
     "metadata": {},
     "output_type": "execute_result"
    },
    {
     "data": {
      "image/png": "[encoded data removed]",
      "text/plain": [
       "<Figure size 432x288 with 1 Axes>"
      ]
     },
     "metadata": {
      "needs_background": "dark"
     },
     "output_type": "display_data"
    }
   ],
   "source": [
    "f = lambda t, y, args: -1\n",
    "key = jr.PRNGKey(3)\n",
    "\n",
    "# term = dfx.ControlTerm(f, SolutionDependentControl(Poisson(key)))\n",
    "term = dfx.ControlTerm(f, SolutionDependentControl(BasicPoisson(key)))\n",
    "solver = TauLeapingSolutionDependentSolver(dfx.Euler())\n",
    "saveat = dfx.SaveAt(ts = jnp.linspace(0,1,100))\n",
    "sol = dfx.diffeqsolve(term, solver, t0=0, t1=1, dt0=0.01, y0=10, saveat=saveat)\n",
    "plt.plot(sol.ys)"
   ]
  },
  {
   "cell_type": "code",
   "execution_count": 33,
   "metadata": {},
   "outputs": [
    {
     "data": {
      "text/plain": [
       "[<matplotlib.lines.Line2D at 0x7f5b3cea1420>]"
      ]
     },
     "execution_count": 33,
     "metadata": {},
     "output_type": "execute_result"
    },
    {
     "data": {
      "image/png": "[encoded data removed]",
      "text/plain": [
       "<Figure size 432x288 with 1 Axes>"
      ]
     },
     "metadata": {
      "needs_background": "dark"
     },
     "output_type": "display_data"
    }
   ],
   "source": [
    "@chex.dataclass\n",
    "class StateHolder():\n",
    "    x : chex.ArrayDevice\n",
    "    y: chex.ArrayDevice\n",
    "\n",
    "def class_term(t: float, state: StateHolder ,args) -> StateHolder:\n",
    "    x_chage = -1.0*t*state.y\n",
    "    y_change = (1-t**2)*state.x\n",
    "    return StateHolder(x = x_chage, y=y_change)\n",
    "\n",
    "term2 = dfx.ODETerm(class_term)\n",
    "solver2 = dfx.Euler()\n",
    "saveat2 = dfx.SaveAt(ts = jnp.linspace(0,1,100))\n",
    "sol2 = dfx.diffeqsolve(term2, solver2, t0=0, t1=1, dt0=0.01, y0=StateHolder(x=1.0, y = 1.4), saveat=saveat2)\n",
    "\n",
    "plt.plot(sol2.ys.x)\n",
    "plt.plot(sol2.ys.y)"
   ]
  },
  {
   "cell_type": "code",
   "execution_count": 29,
   "metadata": {},
   "outputs": [
    {
     "data": {
      "text/plain": [
       "DeviceArray(9.704267, dtype=float32)"
      ]
     },
     "execution_count": 29,
     "metadata": {},
     "output_type": "execute_result"
    }
   ],
   "source": [
    "def to_vmap(n):\n",
    "    term = dfx.ControlTerm(f, SolutionDependentControl(BasicPoisson(jr.PRNGKey(n))))\n",
    "    return dfx.diffeqsolve(term, solver, t0=0, t1=1, dt0=0.01, y0=10.0, saveat=dfx.SaveAt(ts = jnp.array([1.0]))).ys[0]\n",
    "\n",
    "outcome_getter = jax.vmap(to_vmap)\n",
    "\n",
    "outcome_getter(jnp.arange(1000)).mean()*jnp.e"
   ]
  },
  {
   "cell_type": "code",
   "execution_count": 41,
   "metadata": {},
   "outputs": [
    {
     "ename": "ValueError",
     "evalue": "Custom node type mismatch: expected type: <class '__main__.BasicState'>, value: Traced<ShapedArray(float32[], weak_type=True)>with<DynamicJaxprTrace(level=8/1)>.",
     "output_type": "error",
     "traceback": [
      "\u001b[0;31m---------------------------------------------------------------------------\u001b[0m",
      "\u001b[0;31mValueError\u001b[0m                                Traceback (most recent call last)",
      "\u001b[1;32m/home/seb/code/core-bioreaction-simulation/notebooks/leap_invest.ipynb Cell 8\u001b[0m in \u001b[0;36m<cell line: 14>\u001b[0;34m()\u001b[0m\n\u001b[1;32m     <a href='vscode-notebook-cell://wsl%2Bubuntu/home/seb/code/core-bioreaction-simulation/notebooks/leap_invest.ipynb#X11sdnNjb2RlLXJlbW90ZQ%3D%3D?line=11'>12</a>\u001b[0m solver \u001b[39m=\u001b[39m TauLeapingSolutionDependentSolver(dfx\u001b[39m.\u001b[39mEuler())\n\u001b[1;32m     <a href='vscode-notebook-cell://wsl%2Bubuntu/home/seb/code/core-bioreaction-simulation/notebooks/leap_invest.ipynb#X11sdnNjb2RlLXJlbW90ZQ%3D%3D?line=12'>13</a>\u001b[0m saveat \u001b[39m=\u001b[39m dfx\u001b[39m.\u001b[39mSaveAt(ts \u001b[39m=\u001b[39m jnp\u001b[39m.\u001b[39mlinspace(\u001b[39m0\u001b[39m,\u001b[39m1\u001b[39m,\u001b[39m100\u001b[39m))\n\u001b[0;32m---> <a href='vscode-notebook-cell://wsl%2Bubuntu/home/seb/code/core-bioreaction-simulation/notebooks/leap_invest.ipynb#X11sdnNjb2RlLXJlbW90ZQ%3D%3D?line=13'>14</a>\u001b[0m sol \u001b[39m=\u001b[39m dfx\u001b[39m.\u001b[39;49mdiffeqsolve(term, solver, t0\u001b[39m=\u001b[39;49m\u001b[39m0\u001b[39;49m, t1\u001b[39m=\u001b[39;49m\u001b[39m1\u001b[39;49m, dt0\u001b[39m=\u001b[39;49m\u001b[39m0.01\u001b[39;49m, y0\u001b[39m=\u001b[39;49m BasicState( y\u001b[39m=\u001b[39;49m \u001b[39m10.0\u001b[39;49m), saveat\u001b[39m=\u001b[39;49msaveat)\n\u001b[1;32m     <a href='vscode-notebook-cell://wsl%2Bubuntu/home/seb/code/core-bioreaction-simulation/notebooks/leap_invest.ipynb#X11sdnNjb2RlLXJlbW90ZQ%3D%3D?line=14'>15</a>\u001b[0m plt\u001b[39m.\u001b[39mplot(sol\u001b[39m.\u001b[39mys)\n",
      "File \u001b[0;32m~/anaconda3/envs/jax/lib/python3.10/site-packages/equinox/jit.py:82\u001b[0m, in \u001b[0;36m_JitWrapper.__call__\u001b[0;34m(_JitWrapper__self, *args, **kwargs)\u001b[0m\n\u001b[1;32m     81\u001b[0m \u001b[39mdef\u001b[39;00m \u001b[39m__call__\u001b[39m(__self, \u001b[39m*\u001b[39margs, \u001b[39m*\u001b[39m\u001b[39m*\u001b[39mkwargs):\n\u001b[0;32m---> 82\u001b[0m     \u001b[39mreturn\u001b[39;00m __self\u001b[39m.\u001b[39;49m_fun_wrapper(\u001b[39mFalse\u001b[39;49;00m, args, kwargs)\n",
      "File \u001b[0;32m~/anaconda3/envs/jax/lib/python3.10/site-packages/equinox/jit.py:78\u001b[0m, in \u001b[0;36m_JitWrapper._fun_wrapper\u001b[0;34m(self, is_lower, args, kwargs)\u001b[0m\n\u001b[1;32m     76\u001b[0m     \u001b[39mreturn\u001b[39;00m \u001b[39mself\u001b[39m\u001b[39m.\u001b[39m_cached\u001b[39m.\u001b[39mlower(dynamic, static)\n\u001b[1;32m     77\u001b[0m \u001b[39melse\u001b[39;00m:\n\u001b[0;32m---> 78\u001b[0m     dynamic_out, static_out \u001b[39m=\u001b[39m \u001b[39mself\u001b[39;49m\u001b[39m.\u001b[39;49m_cached(dynamic, static)\n\u001b[1;32m     79\u001b[0m     \u001b[39mreturn\u001b[39;00m combine(dynamic_out, static_out\u001b[39m.\u001b[39mvalue)\n",
      "    \u001b[0;31m[... skipping hidden 11 frame]\u001b[0m\n",
      "File \u001b[0;32m~/anaconda3/envs/jax/lib/python3.10/site-packages/equinox/jit.py:30\u001b[0m, in \u001b[0;36m_filter_jit_cache.<locals>.fun_wrapped\u001b[0;34m(dynamic, static)\u001b[0m\n\u001b[1;32m     28\u001b[0m fun \u001b[39m=\u001b[39m hashable_combine(dynamic_fun, static_fun)\n\u001b[1;32m     29\u001b[0m args, kwargs \u001b[39m=\u001b[39m hashable_combine(dynamic_spec, static_spec)\n\u001b[0;32m---> 30\u001b[0m out \u001b[39m=\u001b[39m fun(\u001b[39m*\u001b[39;49margs, \u001b[39m*\u001b[39;49m\u001b[39m*\u001b[39;49mkwargs)\n\u001b[1;32m     31\u001b[0m dynamic_out, static_out \u001b[39m=\u001b[39m partition(out, filter_out)\n\u001b[1;32m     32\u001b[0m \u001b[39mreturn\u001b[39;00m dynamic_out, Static(static_out)\n",
      "File \u001b[0;32m~/anaconda3/envs/jax/lib/python3.10/site-packages/diffrax/integrate.py:858\u001b[0m, in \u001b[0;36mdiffeqsolve\u001b[0;34m(terms, solver, t0, t1, dt0, y0, args, saveat, stepsize_controller, adjoint, discrete_terminating_event, max_steps, throw, solver_state, controller_state, made_jump)\u001b[0m\n\u001b[1;32m    834\u001b[0m init_state \u001b[39m=\u001b[39m _State(\n\u001b[1;32m    835\u001b[0m     y\u001b[39m=\u001b[39my0,\n\u001b[1;32m    836\u001b[0m     tprev\u001b[39m=\u001b[39mtprev,\n\u001b[0;32m   (...)\u001b[0m\n\u001b[1;32m    851\u001b[0m     dense_save_index\u001b[39m=\u001b[39mdense_save_index,\n\u001b[1;32m    852\u001b[0m )\n\u001b[1;32m    854\u001b[0m \u001b[39m#\u001b[39;00m\n\u001b[1;32m    855\u001b[0m \u001b[39m# Main loop\u001b[39;00m\n\u001b[1;32m    856\u001b[0m \u001b[39m#\u001b[39;00m\n\u001b[0;32m--> 858\u001b[0m final_state, aux_stats \u001b[39m=\u001b[39m adjoint\u001b[39m.\u001b[39;49mloop(\n\u001b[1;32m    859\u001b[0m     args\u001b[39m=\u001b[39;49margs,\n\u001b[1;32m    860\u001b[0m     terms\u001b[39m=\u001b[39;49mterms,\n\u001b[1;32m    861\u001b[0m     solver\u001b[39m=\u001b[39;49msolver,\n\u001b[1;32m    862\u001b[0m     stepsize_controller\u001b[39m=\u001b[39;49mstepsize_controller,\n\u001b[1;32m    863\u001b[0m     discrete_terminating_event\u001b[39m=\u001b[39;49mdiscrete_terminating_event,\n\u001b[1;32m    864\u001b[0m     saveat\u001b[39m=\u001b[39;49msaveat,\n\u001b[1;32m    865\u001b[0m     t0\u001b[39m=\u001b[39;49mt0,\n\u001b[1;32m    866\u001b[0m     t1\u001b[39m=\u001b[39;49mt1,\n\u001b[1;32m    867\u001b[0m     dt0\u001b[39m=\u001b[39;49mdt0,\n\u001b[1;32m    868\u001b[0m     max_steps\u001b[39m=\u001b[39;49mmax_steps,\n\u001b[1;32m    869\u001b[0m     init_state\u001b[39m=\u001b[39;49minit_state,\n\u001b[1;32m    870\u001b[0m     throw\u001b[39m=\u001b[39;49mthrow,\n\u001b[1;32m    871\u001b[0m     passed_solver_state\u001b[39m=\u001b[39;49mpassed_solver_state,\n\u001b[1;32m    872\u001b[0m     passed_controller_state\u001b[39m=\u001b[39;49mpassed_controller_state,\n\u001b[1;32m    873\u001b[0m )\n\u001b[1;32m    875\u001b[0m \u001b[39m#\u001b[39;00m\n\u001b[1;32m    876\u001b[0m \u001b[39m# Finish up\u001b[39;00m\n\u001b[1;32m    877\u001b[0m \u001b[39m#\u001b[39;00m\n\u001b[1;32m    879\u001b[0m \u001b[39mif\u001b[39;00m saveat\u001b[39m.\u001b[39mt0 \u001b[39mor\u001b[39;00m saveat\u001b[39m.\u001b[39mt1 \u001b[39mor\u001b[39;00m saveat\u001b[39m.\u001b[39msteps \u001b[39mor\u001b[39;00m (saveat\u001b[39m.\u001b[39mts \u001b[39mis\u001b[39;00m \u001b[39mnot\u001b[39;00m \u001b[39mNone\u001b[39;00m):\n",
      "File \u001b[0;32m~/anaconda3/envs/jax/lib/python3.10/site-packages/diffrax/adjoint.py:132\u001b[0m, in \u001b[0;36mRecursiveCheckpointAdjoint.loop\u001b[0;34m(***failed resolving arguments***)\u001b[0m\n\u001b[1;32m    130\u001b[0m \u001b[39mdef\u001b[39;00m \u001b[39mloop\u001b[39m(\u001b[39mself\u001b[39m, \u001b[39m*\u001b[39m, throw, passed_solver_state, passed_controller_state, \u001b[39m*\u001b[39m\u001b[39m*\u001b[39mkwargs):\n\u001b[1;32m    131\u001b[0m     \u001b[39mdel\u001b[39;00m throw, passed_solver_state, passed_controller_state\n\u001b[0;32m--> 132\u001b[0m     \u001b[39mreturn\u001b[39;00m \u001b[39mself\u001b[39;49m\u001b[39m.\u001b[39;49m_loop_fn(\u001b[39m*\u001b[39;49m\u001b[39m*\u001b[39;49mkwargs, is_bounded\u001b[39m=\u001b[39;49m\u001b[39mTrue\u001b[39;49;00m)\n",
      "File \u001b[0;32m~/anaconda3/envs/jax/lib/python3.10/site-packages/diffrax/integrate.py:484\u001b[0m, in \u001b[0;36mloop\u001b[0;34m(solver, stepsize_controller, discrete_terminating_event, saveat, t0, t1, dt0, max_steps, terms, args, init_state, is_bounded)\u001b[0m\n\u001b[1;32m    481\u001b[0m         base \u001b[39m=\u001b[39m compiled_num_steps\n\u001b[1;32m    482\u001b[0m         max_steps \u001b[39m=\u001b[39m \u001b[39mmin\u001b[39m(max_steps, compiled_num_steps)\n\u001b[0;32m--> 484\u001b[0m     final_state \u001b[39m=\u001b[39m bounded_while_loop(\n\u001b[1;32m    485\u001b[0m         cond_fun, body_fun, init_state, max_steps, base\u001b[39m=\u001b[39;49mbase\n\u001b[1;32m    486\u001b[0m     )\n\u001b[1;32m    487\u001b[0m \u001b[39melse\u001b[39;00m:\n\u001b[1;32m    488\u001b[0m     compiled_num_steps \u001b[39m=\u001b[39m \u001b[39mNone\u001b[39;00m\n",
      "File \u001b[0;32m~/anaconda3/envs/jax/lib/python3.10/site-packages/diffrax/misc/bounded_while_loop.py:137\u001b[0m, in \u001b[0;36mbounded_while_loop\u001b[0;34m(cond_fun, body_fun, init_val, max_steps, base)\u001b[0m\n\u001b[1;32m    135\u001b[0m init_data \u001b[39m=\u001b[39m (cond_fun(init_val), init_val, \u001b[39m0\u001b[39m)\n\u001b[1;32m    136\u001b[0m rounded_max_steps \u001b[39m=\u001b[39m base \u001b[39m*\u001b[39m\u001b[39m*\u001b[39m \u001b[39mint\u001b[39m(math\u001b[39m.\u001b[39mceil(math\u001b[39m.\u001b[39mlog(max_steps, base)))\n\u001b[0;32m--> 137\u001b[0m _, val, _ \u001b[39m=\u001b[39m _while_loop(_cond_fun, body_fun, init_data, rounded_max_steps, base)\n\u001b[1;32m    138\u001b[0m \u001b[39mreturn\u001b[39;00m val\n",
      "File \u001b[0;32m~/anaconda3/envs/jax/lib/python3.10/site-packages/diffrax/misc/bounded_while_loop.py:241\u001b[0m, in \u001b[0;36m_while_loop\u001b[0;34m(cond_fun, body_fun, data, max_steps, base)\u001b[0m\n\u001b[1;32m    238\u001b[0m \u001b[39mif\u001b[39;00m max_steps \u001b[39m!=\u001b[39m base:\n\u001b[1;32m    239\u001b[0m     _scan_fn \u001b[39m=\u001b[39m jax\u001b[39m.\u001b[39mcheckpoint(_scan_fn, prevent_cse\u001b[39m=\u001b[39m\u001b[39mFalse\u001b[39;00m)\n\u001b[0;32m--> 241\u001b[0m \u001b[39mreturn\u001b[39;00m lax\u001b[39m.\u001b[39;49mscan(_scan_fn, data, xs\u001b[39m=\u001b[39;49m\u001b[39mNone\u001b[39;49;00m, length\u001b[39m=\u001b[39;49mbase)[\u001b[39m0\u001b[39m]\n",
      "    \u001b[0;31m[... skipping hidden 16 frame]\u001b[0m\n",
      "File \u001b[0;32m~/anaconda3/envs/jax/lib/python3.10/site-packages/diffrax/misc/bounded_while_loop.py:235\u001b[0m, in \u001b[0;36m_while_loop.<locals>._scan_fn\u001b[0;34m(_data, _)\u001b[0m\n\u001b[1;32m    233\u001b[0m _pred, _, _ \u001b[39m=\u001b[39m _data\n\u001b[1;32m    234\u001b[0m _unvmap_pred \u001b[39m=\u001b[39m eqxi\u001b[39m.\u001b[39munvmap_any(_pred)\n\u001b[0;32m--> 235\u001b[0m \u001b[39mreturn\u001b[39;00m lax\u001b[39m.\u001b[39;49mcond(_unvmap_pred, _call, \u001b[39mlambda\u001b[39;49;00m x: x, _data), \u001b[39mNone\u001b[39;00m\n",
      "    \u001b[0;31m[... skipping hidden 13 frame]\u001b[0m\n",
      "File \u001b[0;32m~/anaconda3/envs/jax/lib/python3.10/site-packages/diffrax/misc/bounded_while_loop.py:230\u001b[0m, in \u001b[0;36m_while_loop.<locals>._call\u001b[0;34m(_data)\u001b[0m\n\u001b[1;32m    229\u001b[0m \u001b[39mdef\u001b[39;00m \u001b[39m_call\u001b[39m(_data):\n\u001b[0;32m--> 230\u001b[0m     \u001b[39mreturn\u001b[39;00m _while_loop(cond_fun, body_fun, _data, max_steps \u001b[39m/\u001b[39;49m\u001b[39m/\u001b[39;49m base, base)\n",
      "File \u001b[0;32m~/anaconda3/envs/jax/lib/python3.10/site-packages/diffrax/misc/bounded_while_loop.py:241\u001b[0m, in \u001b[0;36m_while_loop\u001b[0;34m(cond_fun, body_fun, data, max_steps, base)\u001b[0m\n\u001b[1;32m    238\u001b[0m \u001b[39mif\u001b[39;00m max_steps \u001b[39m!=\u001b[39m base:\n\u001b[1;32m    239\u001b[0m     _scan_fn \u001b[39m=\u001b[39m jax\u001b[39m.\u001b[39mcheckpoint(_scan_fn, prevent_cse\u001b[39m=\u001b[39m\u001b[39mFalse\u001b[39;00m)\n\u001b[0;32m--> 241\u001b[0m \u001b[39mreturn\u001b[39;00m lax\u001b[39m.\u001b[39;49mscan(_scan_fn, data, xs\u001b[39m=\u001b[39;49m\u001b[39mNone\u001b[39;49;00m, length\u001b[39m=\u001b[39;49mbase)[\u001b[39m0\u001b[39m]\n",
      "    \u001b[0;31m[... skipping hidden 16 frame]\u001b[0m\n",
      "File \u001b[0;32m~/anaconda3/envs/jax/lib/python3.10/site-packages/diffrax/misc/bounded_while_loop.py:235\u001b[0m, in \u001b[0;36m_while_loop.<locals>._scan_fn\u001b[0;34m(_data, _)\u001b[0m\n\u001b[1;32m    233\u001b[0m _pred, _, _ \u001b[39m=\u001b[39m _data\n\u001b[1;32m    234\u001b[0m _unvmap_pred \u001b[39m=\u001b[39m eqxi\u001b[39m.\u001b[39munvmap_any(_pred)\n\u001b[0;32m--> 235\u001b[0m \u001b[39mreturn\u001b[39;00m lax\u001b[39m.\u001b[39;49mcond(_unvmap_pred, _call, \u001b[39mlambda\u001b[39;49;00m x: x, _data), \u001b[39mNone\u001b[39;00m\n",
      "    \u001b[0;31m[... skipping hidden 13 frame]\u001b[0m\n",
      "File \u001b[0;32m~/anaconda3/envs/jax/lib/python3.10/site-packages/diffrax/misc/bounded_while_loop.py:230\u001b[0m, in \u001b[0;36m_while_loop.<locals>._call\u001b[0;34m(_data)\u001b[0m\n\u001b[1;32m    229\u001b[0m \u001b[39mdef\u001b[39;00m \u001b[39m_call\u001b[39m(_data):\n\u001b[0;32m--> 230\u001b[0m     \u001b[39mreturn\u001b[39;00m _while_loop(cond_fun, body_fun, _data, max_steps \u001b[39m/\u001b[39;49m\u001b[39m/\u001b[39;49m base, base)\n",
      "File \u001b[0;32m~/anaconda3/envs/jax/lib/python3.10/site-packages/diffrax/misc/bounded_while_loop.py:241\u001b[0m, in \u001b[0;36m_while_loop\u001b[0;34m(cond_fun, body_fun, data, max_steps, base)\u001b[0m\n\u001b[1;32m    238\u001b[0m \u001b[39mif\u001b[39;00m max_steps \u001b[39m!=\u001b[39m base:\n\u001b[1;32m    239\u001b[0m     _scan_fn \u001b[39m=\u001b[39m jax\u001b[39m.\u001b[39mcheckpoint(_scan_fn, prevent_cse\u001b[39m=\u001b[39m\u001b[39mFalse\u001b[39;00m)\n\u001b[0;32m--> 241\u001b[0m \u001b[39mreturn\u001b[39;00m lax\u001b[39m.\u001b[39;49mscan(_scan_fn, data, xs\u001b[39m=\u001b[39;49m\u001b[39mNone\u001b[39;49;00m, length\u001b[39m=\u001b[39;49mbase)[\u001b[39m0\u001b[39m]\n",
      "    \u001b[0;31m[... skipping hidden 9 frame]\u001b[0m\n",
      "File \u001b[0;32m~/anaconda3/envs/jax/lib/python3.10/site-packages/diffrax/misc/bounded_while_loop.py:235\u001b[0m, in \u001b[0;36m_while_loop.<locals>._scan_fn\u001b[0;34m(_data, _)\u001b[0m\n\u001b[1;32m    233\u001b[0m _pred, _, _ \u001b[39m=\u001b[39m _data\n\u001b[1;32m    234\u001b[0m _unvmap_pred \u001b[39m=\u001b[39m eqxi\u001b[39m.\u001b[39munvmap_any(_pred)\n\u001b[0;32m--> 235\u001b[0m \u001b[39mreturn\u001b[39;00m lax\u001b[39m.\u001b[39;49mcond(_unvmap_pred, _call, \u001b[39mlambda\u001b[39;49;00m x: x, _data), \u001b[39mNone\u001b[39;00m\n",
      "    \u001b[0;31m[... skipping hidden 13 frame]\u001b[0m\n",
      "File \u001b[0;32m~/anaconda3/envs/jax/lib/python3.10/site-packages/diffrax/misc/bounded_while_loop.py:230\u001b[0m, in \u001b[0;36m_while_loop.<locals>._call\u001b[0;34m(_data)\u001b[0m\n\u001b[1;32m    229\u001b[0m \u001b[39mdef\u001b[39;00m \u001b[39m_call\u001b[39m(_data):\n\u001b[0;32m--> 230\u001b[0m     \u001b[39mreturn\u001b[39;00m _while_loop(cond_fun, body_fun, _data, max_steps \u001b[39m/\u001b[39;49m\u001b[39m/\u001b[39;49m base, base)\n",
      "File \u001b[0;32m~/anaconda3/envs/jax/lib/python3.10/site-packages/diffrax/misc/bounded_while_loop.py:211\u001b[0m, in \u001b[0;36m_while_loop\u001b[0;34m(cond_fun, body_fun, data, max_steps, base)\u001b[0m\n\u001b[1;32m    208\u001b[0m pred, val, step \u001b[39m=\u001b[39m data\n\u001b[1;32m    210\u001b[0m inplace_update \u001b[39m=\u001b[39m _InplaceUpdate(pred)\n\u001b[0;32m--> 211\u001b[0m new_val \u001b[39m=\u001b[39m body_fun(val, inplace_update)\n\u001b[1;32m    213\u001b[0m \u001b[39mdef\u001b[39;00m \u001b[39m_make_update\u001b[39m(_new_val, _val):\n\u001b[1;32m    214\u001b[0m     \u001b[39mif\u001b[39;00m \u001b[39misinstance\u001b[39m(_new_val, HadInplaceUpdate):\n",
      "File \u001b[0;32m~/anaconda3/envs/jax/lib/python3.10/site-packages/diffrax/integrate.py:137\u001b[0m, in \u001b[0;36mloop.<locals>.body_fun\u001b[0;34m(state, inplace)\u001b[0m\n\u001b[1;32m    130\u001b[0m \u001b[39mdef\u001b[39;00m \u001b[39mbody_fun\u001b[39m(state, inplace):\n\u001b[1;32m    131\u001b[0m \n\u001b[1;32m    132\u001b[0m     \u001b[39m#\u001b[39;00m\n\u001b[1;32m    133\u001b[0m     \u001b[39m# Actually do some differential equation solving! Make numerical steps, adapt\u001b[39;00m\n\u001b[1;32m    134\u001b[0m     \u001b[39m# step sizes, all that jazz.\u001b[39;00m\n\u001b[1;32m    135\u001b[0m     \u001b[39m#\u001b[39;00m\n\u001b[0;32m--> 137\u001b[0m     (y, y_error, dense_info, solver_state, solver_result) \u001b[39m=\u001b[39m solver\u001b[39m.\u001b[39;49mstep(\n\u001b[1;32m    138\u001b[0m         terms,\n\u001b[1;32m    139\u001b[0m         state\u001b[39m.\u001b[39;49mtprev,\n\u001b[1;32m    140\u001b[0m         state\u001b[39m.\u001b[39;49mtnext,\n\u001b[1;32m    141\u001b[0m         state\u001b[39m.\u001b[39;49my,\n\u001b[1;32m    142\u001b[0m         args,\n\u001b[1;32m    143\u001b[0m         state\u001b[39m.\u001b[39;49msolver_state,\n\u001b[1;32m    144\u001b[0m         \u001b[39mFalse\u001b[39;49;00m \u001b[39mif\u001b[39;49;00m cannot_make_jump \u001b[39melse\u001b[39;49;00m state\u001b[39m.\u001b[39;49mmade_jump,\n\u001b[1;32m    145\u001b[0m     )\n\u001b[1;32m    147\u001b[0m     \u001b[39m# e.g. if someone has a sqrt(y) in the vector field, and dt0 is so large that\u001b[39;00m\n\u001b[1;32m    148\u001b[0m     \u001b[39m# we get a negative value for y, and then get a NaN vector field. (And then\u001b[39;00m\n\u001b[1;32m    149\u001b[0m     \u001b[39m# everything breaks.) See #143.\u001b[39;00m\n\u001b[1;32m    150\u001b[0m     y_error \u001b[39m=\u001b[39m jtu\u001b[39m.\u001b[39mtree_map(\u001b[39mlambda\u001b[39;00m x: jnp\u001b[39m.\u001b[39mwhere(jnp\u001b[39m.\u001b[39misnan(x), jnp\u001b[39m.\u001b[39minf, x), y_error)\n",
      "\u001b[1;32m/home/seb/code/core-bioreaction-simulation/notebooks/leap_invest.ipynb Cell 8\u001b[0m in \u001b[0;36mTauLeapingSolutionDependentSolver.step\u001b[0;34m(self, terms, t0, t1, y0, args, solver_state, made_jump)\u001b[0m\n\u001b[1;32m     <a href='vscode-notebook-cell://wsl%2Bubuntu/home/seb/code/core-bioreaction-simulation/notebooks/leap_invest.ipynb#X11sdnNjb2RlLXJlbW90ZQ%3D%3D?line=64'>65</a>\u001b[0m         \u001b[39mreturn\u001b[39;00m x\n\u001b[1;32m     <a href='vscode-notebook-cell://wsl%2Bubuntu/home/seb/code/core-bioreaction-simulation/notebooks/leap_invest.ipynb#X11sdnNjb2RlLXJlbW90ZQ%3D%3D?line=66'>67</a>\u001b[0m terms \u001b[39m=\u001b[39m jtu\u001b[39m.\u001b[39mtree_map(_bind_state, terms, is_leaf\u001b[39m=\u001b[39mis_control)\n\u001b[0;32m---> <a href='vscode-notebook-cell://wsl%2Bubuntu/home/seb/code/core-bioreaction-simulation/notebooks/leap_invest.ipynb#X11sdnNjb2RlLXJlbW90ZQ%3D%3D?line=67'>68</a>\u001b[0m \u001b[39mreturn\u001b[39;00m \u001b[39mself\u001b[39;49m\u001b[39m.\u001b[39;49msolver\u001b[39m.\u001b[39;49mstep(terms, t0, t1, y0, args, solver_state, made_jump)\n",
      "File \u001b[0;32m~/anaconda3/envs/jax/lib/python3.10/site-packages/diffrax/solver/euler.py:46\u001b[0m, in \u001b[0;36mEuler.step\u001b[0;34m(***failed resolving arguments***)\u001b[0m\n\u001b[1;32m     44\u001b[0m \u001b[39mdel\u001b[39;00m solver_state, made_jump\n\u001b[1;32m     45\u001b[0m control \u001b[39m=\u001b[39m terms\u001b[39m.\u001b[39mcontr(t0, t1)\n\u001b[0;32m---> 46\u001b[0m y1 \u001b[39m=\u001b[39m (y0\u001b[39m*\u001b[39m\u001b[39m*\u001b[39mω \u001b[39m+\u001b[39m terms\u001b[39m.\u001b[39;49mvf_prod(t0, y0, args, control) \u001b[39m*\u001b[39m\u001b[39m*\u001b[39m ω)\u001b[39m.\u001b[39mω\n\u001b[1;32m     47\u001b[0m dense_info \u001b[39m=\u001b[39m \u001b[39mdict\u001b[39m(y0\u001b[39m=\u001b[39my0, y1\u001b[39m=\u001b[39my1)\n\u001b[1;32m     48\u001b[0m \u001b[39mreturn\u001b[39;00m y1, \u001b[39mNone\u001b[39;00m, dense_info, \u001b[39mNone\u001b[39;00m, RESULTS\u001b[39m.\u001b[39msuccessful\n",
      "File \u001b[0;32m~/anaconda3/envs/jax/lib/python3.10/site-packages/diffrax/term.py:138\u001b[0m, in \u001b[0;36mAbstractTerm.vf_prod\u001b[0;34m(self, t, y, args, control)\u001b[0m\n\u001b[1;32m     94\u001b[0m \u001b[39mdef\u001b[39;00m \u001b[39mvf_prod\u001b[39m(\u001b[39mself\u001b[39m, t: Scalar, y: PyTree, args: PyTree, control: PyTree) \u001b[39m-\u001b[39m\u001b[39m>\u001b[39m PyTree:\n\u001b[1;32m     95\u001b[0m     \u001b[39mr\u001b[39m\u001b[39m\"\"\"The composition of [`diffrax.AbstractTerm.vf`][] and\u001b[39;00m\n\u001b[1;32m     96\u001b[0m \u001b[39m    [`diffrax.AbstractTerm.prod`][].\u001b[39;00m\n\u001b[1;32m     97\u001b[0m \n\u001b[0;32m   (...)\u001b[0m\n\u001b[1;32m    136\u001b[0m \u001b[39m        This function must be linear in `control`.\u001b[39;00m\n\u001b[1;32m    137\u001b[0m \u001b[39m    \"\"\"\u001b[39;00m\n\u001b[0;32m--> 138\u001b[0m     \u001b[39mreturn\u001b[39;00m \u001b[39mself\u001b[39;49m\u001b[39m.\u001b[39;49mprod(\u001b[39mself\u001b[39;49m\u001b[39m.\u001b[39;49mvf(t, y, args), control)\n",
      "File \u001b[0;32m~/anaconda3/envs/jax/lib/python3.10/site-packages/diffrax/term.py:372\u001b[0m, in \u001b[0;36mWrapTerm.prod\u001b[0;34m(self, vf, control)\u001b[0m\n\u001b[1;32m    371\u001b[0m \u001b[39mdef\u001b[39;00m \u001b[39mprod\u001b[39m(\u001b[39mself\u001b[39m, vf: PyTree, control: PyTree) \u001b[39m-\u001b[39m\u001b[39m>\u001b[39m PyTree:\n\u001b[0;32m--> 372\u001b[0m     \u001b[39mreturn\u001b[39;00m \u001b[39mself\u001b[39;49m\u001b[39m.\u001b[39;49mterm\u001b[39m.\u001b[39;49mprod(vf, control)\n",
      "File \u001b[0;32m~/anaconda3/envs/jax/lib/python3.10/site-packages/diffrax/term.py:274\u001b[0m, in \u001b[0;36mControlTerm.prod\u001b[0;34m(vf, control)\u001b[0m\n\u001b[1;32m    272\u001b[0m \u001b[39m@staticmethod\u001b[39m\n\u001b[1;32m    273\u001b[0m \u001b[39mdef\u001b[39;00m \u001b[39mprod\u001b[39m(vf: PyTree, control: PyTree) \u001b[39m-\u001b[39m\u001b[39m>\u001b[39m PyTree:\n\u001b[0;32m--> 274\u001b[0m     \u001b[39mreturn\u001b[39;00m jtu\u001b[39m.\u001b[39;49mtree_map(_prod, vf, control)\n",
      "    \u001b[0;31m[... skipping hidden 1 frame]\u001b[0m\n",
      "File \u001b[0;32m~/anaconda3/envs/jax/lib/python3.10/site-packages/jax/_src/tree_util.py:206\u001b[0m, in \u001b[0;36m<listcomp>\u001b[0;34m(.0)\u001b[0m\n\u001b[1;32m    173\u001b[0m \u001b[39m\"\"\"Maps a multi-input function over pytree args to produce a new pytree.\u001b[39;00m\n\u001b[1;32m    174\u001b[0m \n\u001b[1;32m    175\u001b[0m \u001b[39mArgs:\u001b[39;00m\n\u001b[0;32m   (...)\u001b[0m\n\u001b[1;32m    203\u001b[0m \u001b[39m  [[5, 7, 9], [6, 1, 2]]\u001b[39;00m\n\u001b[1;32m    204\u001b[0m \u001b[39m\"\"\"\u001b[39;00m\n\u001b[1;32m    205\u001b[0m leaves, treedef \u001b[39m=\u001b[39m tree_flatten(tree, is_leaf)\n\u001b[0;32m--> 206\u001b[0m all_leaves \u001b[39m=\u001b[39m [leaves] \u001b[39m+\u001b[39m [treedef\u001b[39m.\u001b[39;49mflatten_up_to(r) \u001b[39mfor\u001b[39;00m r \u001b[39min\u001b[39;00m rest]\n\u001b[1;32m    207\u001b[0m \u001b[39mreturn\u001b[39;00m treedef\u001b[39m.\u001b[39munflatten(f(\u001b[39m*\u001b[39mxs) \u001b[39mfor\u001b[39;00m xs \u001b[39min\u001b[39;00m \u001b[39mzip\u001b[39m(\u001b[39m*\u001b[39mall_leaves))\n",
      "\u001b[0;31mValueError\u001b[0m: Custom node type mismatch: expected type: <class '__main__.BasicState'>, value: Traced<ShapedArray(float32[], weak_type=True)>with<DynamicJaxprTrace(level=8/1)>."
     ]
    }
   ],
   "source": [
    "key = jr.PRNGKey(3)\n",
    "\n",
    "@chex.dataclass\n",
    "class BasicState():\n",
    "    y: float\n",
    "\n",
    "f = lambda t, y, args: BasicState( y=  -1.0)\n",
    "\n",
    "trans_func = lambda y : 1.0\n",
    "\n",
    "term = dfx.ControlTerm(f, SolutionDependentControl(BasicPoisson(key, trans_func)))\n",
    "solver = TauLeapingSolutionDependentSolver(dfx.Euler())\n",
    "saveat = dfx.SaveAt(ts = jnp.linspace(0,1,100))\n",
    "sol = dfx.diffeqsolve(term, solver, t0=0, t1=1, dt0=0.01, y0= BasicState( y= 10.0), saveat=saveat)\n",
    "plt.plot(sol.ys)"
   ]
  },
  {
   "cell_type": "code",
   "execution_count": 35,
   "metadata": {},
   "outputs": [
    {
     "data": {
      "text/plain": [
       "[<matplotlib.lines.Line2D at 0x7f5ca878a500>]"
      ]
     },
     "execution_count": 35,
     "metadata": {},
     "output_type": "execute_result"
    },
    {
     "data": {
      "image/png": "[encoded data removed]",
      "text/plain": [
       "<Figure size 432x288 with 1 Axes>"
      ]
     },
     "metadata": {
      "needs_background": "dark"
     },
     "output_type": "display_data"
    }
   ],
   "source": [
    "term2 = dfx.ODETerm(lambda t, y, args : BasicState( y= -1.0) )\n",
    "solver2 = dfx.Euler()\n",
    "saveat2 = dfx.SaveAt(ts = jnp.linspace(0,1,100))\n",
    "sol2 = dfx.diffeqsolve(term2, solver2, t0=0, t1=1, dt0=0.01, y0= BasicState( y= 10.0), saveat=saveat2)\n",
    "\n",
    "plt.plot(sol2.ys.y)"
   ]
  },
  {
   "cell_type": "code",
   "execution_count": null,
   "metadata": {},
   "outputs": [],
   "source": []
  }
 ],
 "metadata": {
  "kernelspec": {
   "display_name": "Python 3.10.4 ('jax')",
   "language": "python",
   "name": "python3"
  },
  "language_info": {
   "codemirror_mode": {
    "name": "ipython",
    "version": 3
   },
   "file_extension": ".py",
   "mimetype": "text/x-python",
   "name": "python",
   "nbconvert_exporter": "python",
   "pygments_lexer": "ipython3",
   "version": "3.10.4"
  },
  "orig_nbformat": 4,
  "vscode": {
   "interpreter": {
    "hash": "215d23313455f067ae09e07e529328e8ad44a9d5ade9d3c001e5a6cb9614e77a"
   }
  }
 },
 "nbformat": 4,
 "nbformat_minor": 2
}
