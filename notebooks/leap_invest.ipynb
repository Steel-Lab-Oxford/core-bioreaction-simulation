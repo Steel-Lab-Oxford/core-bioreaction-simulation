{
 "cells": [
  {
   "cell_type": "code",
   "execution_count": 1,
   "metadata": {},
   "outputs": [],
   "source": [
    "%load_ext autoreload\n",
    "%autoreload 2"
   ]
  },
  {
   "cell_type": "code",
   "execution_count": 36,
   "metadata": {},
   "outputs": [],
   "source": [
    "import diffrax as dfx\n",
    "import equinox as eqx\n",
    "import jax.numpy as jnp\n",
    "import jax.random as jr\n",
    "import jax.tree_util as jtu\n",
    "from jaxtyping import Array, PyTree\n",
    "from typing import Callable\n",
    "import matplotlib.pyplot as plt\n",
    "import jax\n"
   ]
  },
  {
   "cell_type": "code",
   "execution_count": 90,
   "metadata": {},
   "outputs": [],
   "source": [
    "#\n",
    "# Define the new stateful operations.\n",
    "#\n",
    "\n",
    "_sentinel = object()\n",
    "\n",
    "# Wraps another control to provide it with an additional argument `y`, which\n",
    "# is a function `t -> y(t)` for the solution of the differential equation.\n",
    "class SolutionDependentControl(dfx.AbstractPath):\n",
    "    control: dfx.AbstractPath\n",
    "    y: Callable[[float], PyTree[Array]] = _sentinel\n",
    "\n",
    "    @property\n",
    "    def t0(self):\n",
    "        return self.control.t0\n",
    "\n",
    "    @property\n",
    "    def t1(self):\n",
    "        return self.contr0l.t1\n",
    "\n",
    "    def evaluate(self, t0, t1=None, left=True):\n",
    "        return self.control.evaluate(t0, t1, left, y=self.y)\n",
    "\n",
    "# Wraps another solver to provide for state-dependent tau-leaping.\n",
    "#\n",
    "# That is, this solver is doing two distinct things:\n",
    "# 1. It is provide an estimate of the solution to a `StateDependentControl`.\n",
    "# 2. That estimate of the solution is a constant function, whose value is the\n",
    "#    current state.\n",
    "#\n",
    "# Point 1 is just about wiring up the arguments.\n",
    "# Point 2 is a particular choice of numerics.\n",
    "class TauLeapingSolutionDependentSolver(dfx.AbstractSolver):\n",
    "    solver: dfx.AbstractSolver\n",
    "\n",
    "    @property\n",
    "    def term_structure(self):\n",
    "        return self.solver.term_structure\n",
    "\n",
    "    @property\n",
    "    def interpolation_cls(self):\n",
    "        return self.solver.interpolation_cls\n",
    "\n",
    "    def order(self, terms):\n",
    "        return self.solver.order(terms)\n",
    "\n",
    "    def strong_order(self, terms):\n",
    "        return self.solver.strong_order(terms)\n",
    "\n",
    "    def error_order(self, terms):\n",
    "        return self.solver.error_order(terms)\n",
    "\n",
    "    def init(self, terms, t0, t1, y0, args):\n",
    "        return self.solver.init(terms, t0, t1, y0, args)\n",
    "\n",
    "    def step(self, terms, t0, t1, y0, args, solver_state, made_jump):\n",
    "        is_control = lambda x: isinstance(x, SolutionDependentControl)\n",
    "        \n",
    "        def _bind_state(x):\n",
    "            if is_control(x):\n",
    "                assert x.y is _sentinel\n",
    "                sol_estimate = lambda _ : y0  # tau-leaping approximation\n",
    "                return eqx.tree_at(lambda control: control.y, x, sol_estimate)\n",
    "            else:\n",
    "                return x\n",
    "\n",
    "        terms = jtu.tree_map(_bind_state, terms, is_leaf=is_control)\n",
    "        return self.solver.step(terms, t0, t1, y0, args, solver_state, made_jump)\n",
    "\n",
    "    def func(self, terms, t0, y0, args):\n",
    "        return self.solver.func(terms, t0, y0, args)\n",
    "\n",
    "#\n",
    "# Poisson process example in particular\n",
    "#\n",
    "\n",
    "class Poisson(dfx.AbstractPath):\n",
    "    key: jr.PRNGKey\n",
    "\n",
    "    @property\n",
    "    def t0(self):\n",
    "        return 0\n",
    "\n",
    "    @property\n",
    "    def t1(self):\n",
    "        return 1\n",
    "\n",
    "    def evaluate(self, t0, t1=None, left=True, *, y):\n",
    "        \"\"\"\n",
    "        # Now simulate your process however you see fit.\n",
    "        # Things to consider:\n",
    "        #\n",
    "        # #### 1. Consistency ####\n",
    "        #\n",
    "        # Note that ideally the process should be \"consistent\", i.e. that\n",
    "        # `self.evaluate(ta, tb) + self.evaluate(tb, tc) == self.evaluate(ta, tc)`\n",
    "        # i.e. you can't just generate an independent Poisson random variable on each\n",
    "        # evaluation.\n",
    "        #\n",
    "        # This is needed when using a numerical method that may e.g. evaluate over\n",
    "        # [ta, tc], then decide to reject step and try again over the smaller interval\n",
    "        # [ta, tb].\n",
    "        #\n",
    "        # In practice for a simple tau-leaping solver this shouldn't matter, as the\n",
    "        # simulation only goes forward in time. But you are playing with fire if you\n",
    "        # break this invariant that's expected by Diffrax. :)\n",
    "        #\n",
    "        # It is known how to perform a \"consistent\" simulation for Brownian motion.\n",
    "        # (Diffrax implements a \"virtual brownian tree\" but there are other techniques\n",
    "        # as well.) But off the top of my head I don't know how to perform this simulation\n",
    "        # for a Poisson process. (Open research question perhaps? Most of the stochastic\n",
    "        # numeric literature has usually brushed this detail under the rug by using\n",
    "        # fixed-step solvers.)\n",
    "        #\n",
    "        # #### 2. Left vs right continuity ####\n",
    "        #\n",
    "        # `left=True/False` indicates whether it is the left- or right-limit that\n",
    "        # should be returned at both of `t0` and `t1`.\n",
    "        #\n",
    "        # That is, `evaluate(t0, t1, left=True)` should return\n",
    "        # lim_{t->t1 from the left} x(t) - lim_{t->t0 from the left} x(t)\n",
    "        # and `evaluate(t0, t1, left=False)` should return\n",
    "        # lim_{t->t1 from the right} x(t) - lim_{t->t0 from the right} x(t)\n",
    "        #\n",
    "        # This distinction matters for a jump process.\n",
    "        #\n",
    "        # --------------------------\n",
    "        #\n",
    "        # In practice, since point 1 is possibly an open research question and I don't\n",
    "        # have that much time, I've hardcoded a particular sample path here. Filling\n",
    "        # out the actual mathematics is an exercise for the reader! :)\n",
    "        \"\"\"\n",
    "\n",
    "        if t1 is None:\n",
    "            t1 = t0\n",
    "            t0 = self.t0\n",
    "        jump_points = jr.uniform(self.key, shape=(6,), minval=self.t0, maxval=self.t1)\n",
    "        if left:\n",
    "            x_t0 = jnp.sum(t0 > jump_points)\n",
    "            x_t1 = jnp.sum(t1 > jump_points)\n",
    "        else:\n",
    "            x_t0 = jnp.sum(t0 >= jump_points)\n",
    "            x_t1 = jnp.sum(t1 >= jump_points)\n",
    "        return x_t1 - x_t0\n",
    "\n",
    "\n",
    "class BetterPoisson(dfx.AbstractPath):\n",
    "    key: jr.PRNGKey\n",
    "\n",
    "    @property\n",
    "    def t0(self):\n",
    "        return 0\n",
    "\n",
    "    @property\n",
    "    def t1(self):\n",
    "        return 1\n",
    "\n",
    "    def evaluate(self, t0, t1=None, left=True, *, y):\n",
    "        inty = (t0+t1)*1e4 #need to do this for folding in as it takes an int\n",
    "        new_key = jr.fold_in(self.key, inty)\n",
    "        return jr.poisson(new_key, y(t0)*(t1-t0))\n",
    "\n"
   ]
  },
  {
   "cell_type": "code",
   "execution_count": 35,
   "metadata": {},
   "outputs": [
    {
     "ename": "NameError",
     "evalue": "name 'jax' is not defined",
     "output_type": "error",
     "traceback": [
      "\u001b[0;31m---------------------------------------------------------------------------\u001b[0m",
      "\u001b[0;31mNameError\u001b[0m                                 Traceback (most recent call last)",
      "\u001b[1;32m/home/seb/code/core-bioreaction-simulation/notebooks/leap_invest.ipynb Cell 4\u001b[0m in \u001b[0;36m<cell line: 1>\u001b[0;34m()\u001b[0m\n\u001b[0;32m----> <a href='vscode-notebook-cell://wsl%2Bubuntu/home/seb/code/core-bioreaction-simulation/notebooks/leap_invest.ipynb#X11sdnNjb2RlLXJlbW90ZQ%3D%3D?line=0'>1</a>\u001b[0m jax\n",
      "\u001b[0;31mNameError\u001b[0m: name 'jax' is not defined"
     ]
    }
   ],
   "source": [
    "jax"
   ]
  },
  {
   "cell_type": "code",
   "execution_count": 101,
   "metadata": {},
   "outputs": [],
   "source": [
    "f = lambda t, y, args: -1\n",
    "key = jr.PRNGKey(2)\n",
    "\n",
    "# term = dfx.ControlTerm(f, SolutionDependentControl(Poisson(key)))\n",
    "term = dfx.ControlTerm(f, SolutionDependentControl(BetterPoisson(key)))\n",
    "solver = TauLeapingSolutionDependentSolver(dfx.Euler())\n",
    "saveat = dfx.SaveAt(ts = jnp.linspace(0,1,100))\n",
    "sol = dfx.diffeqsolve(term, solver, t0=0, t1=1, dt0=0.01, y0=10.0, saveat=saveat)\n"
   ]
  },
  {
   "cell_type": "code",
   "execution_count": 109,
   "metadata": {},
   "outputs": [],
   "source": [
    "def to_vmap(n):\n",
    "    term = dfx.ControlTerm(f, SolutionDependentControl(BetterPoisson(jr.PRNGKey(n))))\n",
    "    return dfx.diffeqsolve(term, solver, t0=0, t1=1, dt0=0.01, y0=10.0, saveat=dfx.SaveAt(ts = jnp.array([1.0]))).ys[0]\n",
    "\n",
    "outcome_getter = jax.vmap(to_vmap)"
   ]
  },
  {
   "cell_type": "code",
   "execution_count": 120,
   "metadata": {},
   "outputs": [
    {
     "data": {
      "text/plain": [
       "DeviceArray(9.943475, dtype=float32)"
      ]
     },
     "execution_count": 120,
     "metadata": {},
     "output_type": "execute_result"
    }
   ],
   "source": [
    "\n",
    "outcome_getter(jnp.arange(100000)).mean()*jnp.e"
   ]
  },
  {
   "cell_type": "code",
   "execution_count": 121,
   "metadata": {},
   "outputs": [
    {
     "data": {
      "text/plain": [
       "[<matplotlib.lines.Line2D at 0x7f48292700a0>]"
      ]
     },
     "execution_count": 121,
     "metadata": {},
     "output_type": "execute_result"
    },
    {
     "data": {
      "image/png": "[encoded data removed]",
      "text/plain": [
       "<Figure size 432x288 with 1 Axes>"
      ]
     },
     "metadata": {
      "needs_background": "dark"
     },
     "output_type": "display_data"
    }
   ],
   "source": [
    "plt.plot(sol.ys)"
   ]
  }
 ],
 "metadata": {
  "kernelspec": {
   "display_name": "Python 3.10.4 ('jax')",
   "language": "python",
   "name": "python3"
  },
  "language_info": {
   "codemirror_mode": {
    "name": "ipython",
    "version": 3
   },
   "file_extension": ".py",
   "mimetype": "text/x-python",
   "name": "python",
   "nbconvert_exporter": "python",
   "pygments_lexer": "ipython3",
   "version": "3.10.4"
  },
  "orig_nbformat": 4,
  "vscode": {
   "interpreter": {
    "hash": "215d23313455f067ae09e07e529328e8ad44a9d5ade9d3c001e5a6cb9614e77a"
   }
  }
 },
 "nbformat": 4,
 "nbformat_minor": 2
}
