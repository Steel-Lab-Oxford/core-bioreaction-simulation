{
 "cells": [
  {
   "cell_type": "code",
   "execution_count": 1,
   "metadata": {},
   "outputs": [],
   "source": [
    "%load_ext autoreload\n",
    "%autoreload 2"
   ]
  },
  {
   "cell_type": "code",
   "execution_count": 2,
   "metadata": {},
   "outputs": [],
   "source": [
    "\n",
    "\n",
    "import diffrax as dfx\n",
    "import equinox as eqx\n",
    "import jax.numpy as jnp\n",
    "import jax.random as jr\n",
    "import jax.tree_util as jtu\n",
    "from jaxtyping import Array, PyTree\n",
    "from typing import Callable\n",
    "import matplotlib.pyplot as plt\n",
    "import jax\n",
    "import chex\n",
    "\n",
    "\n",
    "import bioreaction\n",
    "from bioreaction.simulation.med_sim import *\n"
   ]
  },
  {
   "cell_type": "code",
   "execution_count": 3,
   "metadata": {},
   "outputs": [],
   "source": [
    "key = jr.PRNGKey(0)"
   ]
  },
  {
   "cell_type": "code",
   "execution_count": 4,
   "metadata": {},
   "outputs": [],
   "source": [
    "med_model = bioreaction.templates.GeneralMedSim()\n",
    "\n",
    "int_med_model = get_int_med_model(med_model)\n",
    "int_med_state = MedSimInternelState(concentrations=jnp.ones(6), other_factors=jnp.zeros(3))\n",
    "\n",
    "\n",
    "poiss_simmed = jnp.array([1,1,1, 0,0,0])\n",
    "brown_simmed = jnp.array([1,1,1,1,1,0])\n",
    "\n",
    "int_med_params = MedSimParams(delta_t= 0.01, t_start=0.0, t_end = 5.0, poisson_sim_reactions=poiss_simmed, brownian_sim_reaction=brown_simmed)"
   ]
  },
  {
   "cell_type": "code",
   "execution_count": 5,
   "metadata": {},
   "outputs": [],
   "source": [
    "f_r, b_r = get_f_b_rates(int_med_state, int_med_model)\n",
    "dt_func = get_dt_func(int_med_model, int_med_params)\n",
    "brown_func =  get_brown_noise_func(int_med_model, int_med_params)\n",
    "poiss_func =  get_poisson_func(int_med_model, int_med_params)"
   ]
  },
  {
   "cell_type": "code",
   "execution_count": 6,
   "metadata": {},
   "outputs": [
    {
     "data": {
      "text/plain": [
       "MedSimInternelState(concentrations=DeviceArray([[ 0.,  0.,  0.,  1., -1.,  0.,  0.,  0.,  0.],\n",
       "             [ 0.,  0.,  0.,  0.,  0.,  1., -1.,  0.,  0.],\n",
       "             [ 0.,  0.,  0.,  0.,  0.,  0.,  0.,  1., -1.],\n",
       "             [ 0.,  0.,  0.,  0.,  0.,  0.,  0.,  0.,  0.],\n",
       "             [ 0.,  0.,  0.,  0.,  0.,  0.,  0.,  0.,  0.],\n",
       "             [ 0.,  0.,  0.,  0.,  0.,  0.,  0.,  0.,  0.]],            dtype=float32), other_factors=DeviceArray([0., 0., 0.], dtype=float32))"
      ]
     },
     "execution_count": 6,
     "metadata": {},
     "output_type": "execute_result"
    }
   ],
   "source": [
    "poiss_func(0, int_med_state, 0)"
   ]
  },
  {
   "cell_type": "code",
   "execution_count": 18,
   "metadata": {},
   "outputs": [],
   "source": [
    "func_dict = debug_simulate_chunk(key, int_med_state, int_med_model, int_med_params)"
   ]
  },
  {
   "cell_type": "code",
   "execution_count": 8,
   "metadata": {},
   "outputs": [
    {
     "name": "stderr",
     "output_type": "stream",
     "text": [
      "/home/seb/anaconda3/envs/jax/lib/python3.10/site-packages/diffrax/integrate.py:677: UserWarning: `TauLeapingSolutionDependentSolver` is not marked as converging to either the Itô or the Stratonovich solution.\n",
      "  warnings.warn(\n"
     ]
    }
   ],
   "source": [
    "result_real = simulate_chunk(key, int_med_state, int_med_model, int_med_params)"
   ]
  },
  {
   "cell_type": "code",
   "execution_count": 27,
   "metadata": {},
   "outputs": [
    {
     "data": {
      "text/plain": [
       "MedSimInternelState(concentrations=DeviceArray([1., 1., 1., 1., 1., 1.], dtype=float32), other_factors=DeviceArray([0., 0., 0.], dtype=float32))"
      ]
     },
     "execution_count": 27,
     "metadata": {},
     "output_type": "execute_result"
    }
   ],
   "source": [
    "func_dict[\"i_t\"].vector_field(0, int_med_state, 0)"
   ]
  },
  {
   "cell_type": "code",
   "execution_count": 29,
   "metadata": {},
   "outputs": [
    {
     "data": {
      "text/plain": [
       "MedSimParams(delta_t=0.01, t_start=0.0, t_end=5.0, poisson_sim_reactions=DeviceArray([1, 1, 1, 0, 0, 0], dtype=int32), brownian_sim_reaction=DeviceArray([1, 1, 1, 1, 1, 0], dtype=int32))"
      ]
     },
     "execution_count": 29,
     "metadata": {},
     "output_type": "execute_result"
    }
   ],
   "source": [
    "int_med_params"
   ]
  },
  {
   "cell_type": "code",
   "execution_count": 44,
   "metadata": {},
   "outputs": [
    {
     "data": {
      "text/plain": [
       "MedSimInternelState(concentrations=DeviceArray([-0.08051123,  0.04995818, -0.01033866,  0.03858316,\n",
       "              0.10834629, -0.1463321 , -0.10046264,  0.14814723,\n",
       "             -0.02238544], dtype=float32), other_factors=DeviceArray([-0.08575486, -0.08709503, -0.09625503], dtype=float32))"
      ]
     },
     "execution_count": 44,
     "metadata": {},
     "output_type": "execute_result"
    }
   ],
   "source": [
    "func_dict[\"b_p\"].evaluate(0,0.01)"
   ]
  },
  {
   "cell_type": "code",
   "execution_count": 50,
   "metadata": {},
   "outputs": [],
   "source": [
    "def simulate_chunk_blab(key : jr.PRNGKey, init_state: MedSimInternelState, model: MedSimInternalModel, params: MedSimParams) -> chex.ArrayDevice:\n",
    "    k1, k2, k3 = jr.split(key, 3)\n",
    "\n",
    "    dt_func = get_dt_func(model, params)\n",
    "    time_term = dfx.ODETerm(dt_func)\n",
    "\n",
    "    brown_func = get_brown_noise_func(model, params)\n",
    "    brown_tree = get_brown_noise_tree(k1, model, params)\n",
    "    brown_term = dfx.ControlTerm(brown_func, brown_tree)\n",
    "\n",
    "    poiss_path = ReactionPoisson(k2, model, params)\n",
    "    poiss_func = get_poisson_func(model, params)\n",
    "    poiss_term = dfx.ControlTerm(poiss_func, SolutionDependentControl(poiss_path))\n",
    "\n",
    "    impulse_term = get_impulse_term(model, params)\n",
    "\n",
    "    # terms = dfx.MultiTerm(poiss_term, time_term, brown_term, impulse_term)\n",
    "    terms = time_term\n",
    "\n",
    "    solver = TauLeapingSolutionDependentSolver(dfx.Euler())\n",
    "    \n",
    "    saveat = dfx.SaveAt(ts = jnp.linspace(params.t_start, params.t_end, 100))\n",
    "    return dfx.diffeqsolve(terms, solver, t0 = params.t_start, t1 = params.t_end, dt0 = params.delta_t, y0=init_state, saveat=saveat)"
   ]
  },
  {
   "cell_type": "code",
   "execution_count": 53,
   "metadata": {},
   "outputs": [
    {
     "data": {
      "text/plain": [
       "DeviceArray(nan, dtype=float32, weak_type=True)"
      ]
     },
     "execution_count": 53,
     "metadata": {},
     "output_type": "execute_result"
    }
   ],
   "source": [
    "jnp.sqrt(-1)"
   ]
  },
  {
   "cell_type": "code",
   "execution_count": 51,
   "metadata": {},
   "outputs": [],
   "source": [
    "result_help = simulate_chunk_blab(key, int_med_state, int_med_model, int_med_params)"
   ]
  },
  {
   "cell_type": "code",
   "execution_count": 52,
   "metadata": {},
   "outputs": [
    {
     "data": {
      "text/plain": [
       "[<matplotlib.lines.Line2D at 0x7fc2c8662170>,\n",
       " <matplotlib.lines.Line2D at 0x7fc294208e50>,\n",
       " <matplotlib.lines.Line2D at 0x7fc270795c90>,\n",
       " <matplotlib.lines.Line2D at 0x7fc2707a04c0>,\n",
       " <matplotlib.lines.Line2D at 0x7fc27079ab60>,\n",
       " <matplotlib.lines.Line2D at 0x7fc270799030>]"
      ]
     },
     "execution_count": 52,
     "metadata": {},
     "output_type": "execute_result"
    },
    {
     "data": {
      "image/png": "[encoded data removed]",
      "text/plain": [
       "<Figure size 432x288 with 1 Axes>"
      ]
     },
     "metadata": {
      "needs_background": "dark"
     },
     "output_type": "display_data"
    }
   ],
   "source": [
    "plt.plot(result_help.ys.concentrations)"
   ]
  },
  {
   "cell_type": "code",
   "execution_count": 103,
   "metadata": {},
   "outputs": [
    {
     "data": {
      "text/plain": [
       "MedSimInternelState(concentrations=DeviceArray([0., 0., 0., 0., 0., 0.], dtype=float32), other_factors=DeviceArray([0., 0., 0.], dtype=float32))"
      ]
     },
     "execution_count": 103,
     "metadata": {},
     "output_type": "execute_result"
    }
   ],
   "source": [
    "int_med_state"
   ]
  },
  {
   "cell_type": "code",
   "execution_count": 93,
   "metadata": {},
   "outputs": [
    {
     "name": "stderr",
     "output_type": "stream",
     "text": [
      "[autoreload of bioreaction.simulation.med_sim failed: Traceback (most recent call last):\n",
      "  File \"/home/seb/anaconda3/envs/jax/lib/python3.10/site-packages/IPython/extensions/autoreload.py\", line 257, in check\n",
      "    superreload(m, reload, self.old_objects)\n",
      "  File \"/home/seb/anaconda3/envs/jax/lib/python3.10/site-packages/IPython/extensions/autoreload.py\", line 480, in superreload\n",
      "    update_generic(old_obj, new_obj)\n",
      "  File \"/home/seb/anaconda3/envs/jax/lib/python3.10/site-packages/IPython/extensions/autoreload.py\", line 377, in update_generic\n",
      "    update(a, b)\n",
      "  File \"/home/seb/anaconda3/envs/jax/lib/python3.10/site-packages/IPython/extensions/autoreload.py\", line 345, in update_class\n",
      "    update_instances(old, new)\n",
      "  File \"/home/seb/anaconda3/envs/jax/lib/python3.10/site-packages/IPython/extensions/autoreload.py\", line 303, in update_instances\n",
      "    ref.__class__ = new\n",
      "  File \"<string>\", line 4, in __setattr__\n",
      "dataclasses.FrozenInstanceError: cannot assign to field '__class__'\n",
      "]\n"
     ]
    }
   ],
   "source": [
    "@chex.dataclass\n",
    "class StateHolder():\n",
    "    a : chex.ArrayDevice\n",
    "    b: chex.ArrayDevice\n",
    "\n",
    "def basicterm(t,y,args):\n",
    "    return MedSimInternelState(concentrations = -y.other_factors, other_factors = y.concentrations)\n",
    "\n",
    "\n",
    "starting_valz = MedSimInternelState(concentrations = 0.0, other_factors = 1.0)\n",
    "\n",
    "dumb_term = lambda t,y,args : starting_valz\n",
    "\n",
    "term = dfx.ODETerm(dumb_term)\n",
    "solver = TauLeapingSolutionDependentSolver(dfx.Euler())\n",
    "\n",
    "saveat = dfx.SaveAt(ts = jnp.linspace(0,10,100))\n",
    "\n",
    "\n",
    "\n",
    "solly = dfx.diffeqsolve(term, solver, 0, 10, dt0 = 0.1, y0 = starting_valz, saveat=saveat)"
   ]
  },
  {
   "cell_type": "code",
   "execution_count": 87,
   "metadata": {},
   "outputs": [
    {
     "data": {
      "text/plain": [
       "[<matplotlib.lines.Line2D at 0x7fb0e8095b40>]"
      ]
     },
     "execution_count": 87,
     "metadata": {},
     "output_type": "execute_result"
    },
    {
     "data": {
      "image/png": "[encoded data removed]",
      "text/plain": [
       "<Figure size 432x288 with 1 Axes>"
      ]
     },
     "metadata": {
      "needs_background": "dark"
     },
     "output_type": "display_data"
    }
   ],
   "source": [
    "plt.plot(solly.ys.concentrations)\n",
    "plt.plot(solly.ys.other_factors)"
   ]
  }
 ],
 "metadata": {
  "kernelspec": {
   "display_name": "Python 3.10.4 ('jax')",
   "language": "python",
   "name": "python3"
  },
  "language_info": {
   "codemirror_mode": {
    "name": "ipython",
    "version": 3
   },
   "file_extension": ".py",
   "mimetype": "text/x-python",
   "name": "python",
   "nbconvert_exporter": "python",
   "pygments_lexer": "ipython3",
   "version": "3.10.4"
  },
  "orig_nbformat": 4,
  "vscode": {
   "interpreter": {
    "hash": "215d23313455f067ae09e07e529328e8ad44a9d5ade9d3c001e5a6cb9614e77a"
   }
  }
 },
 "nbformat": 4,
 "nbformat_minor": 2
}
